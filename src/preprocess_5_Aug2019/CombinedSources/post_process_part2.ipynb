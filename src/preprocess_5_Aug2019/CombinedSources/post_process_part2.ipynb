{
 "cells": [
  {
   "cell_type": "code",
   "execution_count": 1,
   "metadata": {},
   "outputs": [
    {
     "data": {
      "text/plain": [
       "['family',\n",
       " 'genus',\n",
       " 'species',\n",
       " 'sub_sp',\n",
       " 'common_name',\n",
       " 'range_state',\n",
       " 'is_tropical',\n",
       " 'is_coniferous',\n",
       " 'flag']"
      ]
     },
     "execution_count": 1,
     "metadata": {},
     "output_type": "execute_result"
    }
   ],
   "source": [
    "import pandas as pd\n",
    "\n",
    "df = pd.read_csv('combined_species_5.csv',index_col=0)\n",
    "cols = list(df.columns)\n",
    "new_df = pd.DataFrame(columns=cols)\n",
    "cols"
   ]
  },
  {
   "cell_type": "code",
   "execution_count": 3,
   "metadata": {},
   "outputs": [],
   "source": [
    "def rectify_empty_sp(row):\n",
    "    if type(row['species']) != str:\n",
    "        return ''\n",
    "    else:\n",
    "        return row['species']\n",
    "\n",
    "df['species'] = df.apply(rectify_empty_sp,axis=1)"
   ]
  },
  {
   "cell_type": "code",
   "execution_count": 6,
   "metadata": {},
   "outputs": [],
   "source": [
    "for i,row in df.iterrows():\n",
    "    gn = row['genus']\n",
    "    sp = row['species'] \n",
    "    tmp_df = df.loc[(df['genus']==gn)&(df['species']==sp)]\n",
    "    \n",
    "    if len(tmp_df)>1 and len(new_df.loc[(new_df['genus']==gn)&(new_df['species']==sp)]) == 0 :\n",
    "        cn = []\n",
    "        rs = []\n",
    "        family = None\n",
    "        trp = []\n",
    "        con = []\n",
    "        flag = []\n",
    "        sub_sp = []\n",
    "        \n",
    "        for j,_row in tmp_df.iterrows():\n",
    "            if type(_row['common_name']) == str :\n",
    "                cn.extend(_row['common_name'].split(';'))\n",
    "            if type(_row['range_state']) == str :\n",
    "                rs.extend(_row['range_state'].split(';'))\n",
    "            \n",
    "            if type(_row['family']) == str :\n",
    "                family = _row['family']\n",
    "            if type(_row['sub_sp']) == str:\n",
    "                sub_sp.extend(_row['sub_sp'].split(';'))\n",
    "            if _row['is_tropical'] is not None or type(_row['is_tropical'])== float :\n",
    "                trp.append(_row['is_tropical'])\n",
    "            if _row['is_coniferous'] is not None or type(_row['is_coniferous'])== float :\n",
    "                con.append(_row['is_coniferous'])\n",
    "            if _row['flag'] is not None or type(_row['flag'])== float :\n",
    "                flag.append(_row['flag'])\n",
    "        \n",
    "        if len(con) == 0 :\n",
    "            con = None\n",
    "        else:\n",
    "            con = max(con)\n",
    "        \n",
    "        if len(trp) == 0 :\n",
    "            trp = None\n",
    "        else:\n",
    "            trp = max(trp)\n",
    "        \n",
    "        if len(flag) == 0 :\n",
    "            flag = None\n",
    "        else:\n",
    "            flag = max(flag)\n",
    "        \n",
    "        rs = list(set(rs))\n",
    "        rs =';'.join(rs)\n",
    "        cn = list(set(cn))\n",
    "        cn =';'.join(cn)\n",
    "        \n",
    "        tmp_dict = {\n",
    "            'genus': gn ,\n",
    "            'species' : sp, \n",
    "            'sub_sp' : sub_sp,\n",
    "            'common_name' : cn,\n",
    "            'range_state' : rs,\n",
    "            'is_tropical' : trp,\n",
    "            'is_coniferous' : con,\n",
    "            'flag' : flag\n",
    "        } \n",
    "        new_df = new_df.append(tmp_dict,ignore_index=True)\n",
    "    elif len(new_df.loc[(new_df['genus']==gn)&(new_df['species']==sp)]) == 0:\n",
    "        new_df = new_df.append(row,ignore_index=True)\n",
    "    \n"
   ]
  },
  {
   "cell_type": "code",
   "execution_count": 7,
   "metadata": {},
   "outputs": [],
   "source": [
    "new_df.to_csv('combined_species_6.csv')"
   ]
  },
  {
   "cell_type": "code",
   "execution_count": null,
   "metadata": {},
   "outputs": [],
   "source": []
  }
 ],
 "metadata": {
  "kernelspec": {
   "display_name": "Python 3",
   "language": "python",
   "name": "python3"
  },
  "language_info": {
   "codemirror_mode": {
    "name": "ipython",
    "version": 3
   },
   "file_extension": ".py",
   "mimetype": "text/x-python",
   "name": "python",
   "nbconvert_exporter": "python",
   "pygments_lexer": "ipython3",
   "version": "3.6.8"
  }
 },
 "nbformat": 4,
 "nbformat_minor": 2
}
